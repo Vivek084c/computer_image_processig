{
 "cells": [
  {
   "cell_type": "code",
   "execution_count": 1,
   "metadata": {},
   "outputs": [],
   "source": [
    "import cv2"
   ]
  },
  {
   "cell_type": "code",
   "execution_count": 2,
   "metadata": {},
   "outputs": [],
   "source": [
    "label_map={\"0\": \"Background\", \"1\": \"Hat\", \"2\": \"Hair\", \"3\": \"Sunglasses\", \"4\": \"Upper-clothes\", \"5\": \"Skirt\", \"6\": \"Pants\", \"7\": \"Dress\", \"8\": \"Belt\", \"9\": \"Left-shoe\", \"10\": \"Right-shoe\", \"11\": \"Face\", \"12\": \"Left-leg\", \"13\": \"Right-leg\", \"14\": \"Left-arm\", \"15\": \"Right-arm\", \"16\": \"Bag\", \"17\": \"Scarf\"}\n",
    "rgb_color_map=[[0,0,0], [0,0,128], [0,0,255], [0,85,0], [51,0,170], [0,85,255], [85,0,0], [221,119,0], [0,85,85], [85,85,0], [0,51,85], [128,86,52], [0,28,0], [255,0,0], [221,170,51], [225,225,0], [170,255,85], [85,255,170]]\n",
    "classes=[\"Background\",  \"Hat\",  \"Hair\",  \"Sunglasses\",  \"Upper-clothes\", \"Skirt\", \"Pants\",  \"Dress\", \"Belt\",  \"Left-shoe\", \"Right-shoe\", \"Face\", \"Left-leg\", \"Right-leg\", \"Left-arm\", \"Right-arm\", \"Bag\", \"Scarf\"]\n",
    "\n"
   ]
  },
  {
   "cell_type": "code",
   "execution_count": 3,
   "metadata": {},
   "outputs": [],
   "source": [
    "x = cv2.imread(\"data/input/img_0.jpg\", cv2.IMREAD_COLOR)"
   ]
  },
  {
   "cell_type": "code",
   "execution_count": 4,
   "metadata": {},
   "outputs": [],
   "source": [
    "x = cv2.imread(\"data/input/img_0.jpg\", cv2.IMREAD_COLOR)\n",
    "cv2.imshow(\"test\" , x)\n",
    "\n",
    "while True:\n",
    "    key = cv2.waitKey(0)\n",
    "    if key in [27, ord('q'), ord('Q')]:\n",
    "        cv2.destroyAllWindows()\n",
    "    \n",
    "       "
   ]
  },
  {
   "cell_type": "code",
   "execution_count": null,
   "metadata": {},
   "outputs": [],
   "source": []
  }
 ],
 "metadata": {
  "kernelspec": {
   "display_name": "tensorflow",
   "language": "python",
   "name": "python3"
  },
  "language_info": {
   "codemirror_mode": {
    "name": "ipython",
    "version": 3
   },
   "file_extension": ".py",
   "mimetype": "text/x-python",
   "name": "python",
   "nbconvert_exporter": "python",
   "pygments_lexer": "ipython3",
   "version": "3.10.14"
  }
 },
 "nbformat": 4,
 "nbformat_minor": 2
}
